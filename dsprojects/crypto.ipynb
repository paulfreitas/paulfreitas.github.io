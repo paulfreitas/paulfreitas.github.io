{
 "cells": [
  {
   "cell_type": "markdown",
   "id": "3dc1b04e",
   "metadata": {},
   "source": [
    "# Correlations in Cryptocurrency and Finance Data\n",
    "## by Paul Freitas\n",
    "\n",
    "At the present time, stocks could very well be the most common investment vehicle for American investors. Stock portfolios, including those containing index funds based on collections of stocks like the S&P 500 index, are a common feature of individual and corporate investments. More recently, however, cryptocurrencies like Bitcoin are becoming a common investment vehicle as well. Although the nature of the two investment types are different, it seems possible that the investment types rise and fall in a connected way. When more money is added to or removed from the overall market of investments, for example, it is possible that cryptocurrencies and stocks might rise or fall together. If investors are optimistic about one type of investment but pessimistic about another, one might rise in value while the other falls.\n",
    "\n",
    "In this part of my data science portfolio, we examine some common cryptocurrency prices and compare them with some stock indices to see if there are any correlations that might have led to actionable investment insights. The correlations we examine are:\n",
    "\n",
    "1. Simple statistical correlations between sets of prices\n",
    "1. Comparison of linear regression model parameters using standardized pricing data\n",
    "\n",
    "Python will be the analysis tool for this exercise.\n",
    "\n",
    "We start by importing a series of necessary libraries."
   ]
  },
  {
   "cell_type": "code",
   "execution_count": 1,
   "id": "ddd71d77",
   "metadata": {},
   "outputs": [],
   "source": [
    "import numpy as np\n",
    "import pandas as pd\n",
    "import matplotlib.pyplot as plt\n",
    "import matplotlib.dates as mdates\n",
    "import seaborn as sns\n",
    "from sklearn.model_selection import train_test_split\n",
    "from sklearn.linear_model import LinearRegression\n",
    "from sklearn.metrics import mean_squared_error, mean_absolute_error\n",
    "from sklearn import preprocessing\n",
    "from sklearn.preprocessing import StandardScaler"
   ]
  },
  {
   "cell_type": "markdown",
   "id": "64248ff6",
   "metadata": {},
   "source": [
    "Here we load the data we will use in this analysis and store it in preliminary Pandas dataframes. The data is taken from the financial Web site investing.com, which offers historical pricing data for cryptocurrencies and stock indices. This data has been extracted manually into CSV files named in the code below, and stored locally. The data extracted includes the columns \"Date\", \"Price\", \"Open\", \"High\", \"Low\", \"Vol.\", and \"Change %.\" The information extracted is for dates January 21, 2025, through April 21, 2025."
   ]
  },
  {
   "cell_type": "code",
   "execution_count": 2,
   "id": "1058fe89",
   "metadata": {},
   "outputs": [],
   "source": [
    "s_and_p = pd.read_csv(\"S&P 500 Historical Data.csv\",thousands=',')\n",
    "dji = pd.read_csv(\"Dow Jones Industrial Average Historical Data.csv\",thousands=',')\n",
    "btc = pd.read_csv(\"Bitcoin Historical Data.csv\",thousands=',')\n",
    "sol = pd.read_csv(\"Solana Historical Data.csv\",thousands=',')\n",
    "bnb = pd.read_csv(\"BNB Historical Data.csv\",thousands=',')\n",
    "xrp = pd.read_csv(\"XRP Historical Data.csv\",thousands=',')\n",
    "eth = pd.read_csv(\"Ethereum Historical Data.csv\",thousands=',')\n",
    "doge = pd.read_csv(\"Dogecoin Historical Data.csv\",thousands=',')"
   ]
  },
  {
   "cell_type": "markdown",
   "id": "806c326b",
   "metadata": {},
   "source": [
    "Now we must transform the loaded data into the data we are interested in for this analysis. We want only the date and the daily closing price, labeled \"Price,\" for each asset type. To simplify analysis, we cut down all our dataframes to include only this information."
   ]
  },
  {
   "cell_type": "code",
   "execution_count": 3,
   "id": "b7207528",
   "metadata": {},
   "outputs": [],
   "source": [
    "s_and_p = s_and_p[[\"Date\",\"Price\"]]\n",
    "s_and_p.rename(columns={\"Price\": \"s_and_p_price\"}, inplace=True)\n",
    "dji = dji[[\"Date\",\"Price\"]]\n",
    "dji.rename(columns={\"Price\": \"dji_price\"}, inplace=True)\n",
    "btc = btc[[\"Date\",\"Price\"]]\n",
    "btc.rename(columns={\"Price\": \"BTC_price\"}, inplace=True)\n",
    "sol = sol[[\"Date\",\"Price\"]]\n",
    "sol.rename(columns={\"Price\": \"SOL_price\"}, inplace=True)\n",
    "bnb = bnb[[\"Date\",\"Price\"]]\n",
    "bnb.rename(columns={\"Price\": \"BNB_price\"}, inplace=True)\n",
    "xrp = xrp[[\"Date\",\"Price\"]]\n",
    "xrp.rename(columns={\"Price\": \"XRP_price\"}, inplace=True)\n",
    "eth = eth[[\"Date\",\"Price\"]]\n",
    "eth.rename(columns={\"Price\": \"ETH_price\"}, inplace=True)\n",
    "doge = doge[[\"Date\",\"Price\"]]\n",
    "doge.rename(columns={\"Price\": \"DOGE_price\"}, inplace=True)\n"
   ]
  },
  {
   "cell_type": "markdown",
   "id": "b22dce31",
   "metadata": {},
   "source": [
    "We must now merge the data into a single dataframe, labeled _all_data_. Note that there are date gaps for the stock indices, as there is no trading for their component stocks on weekends. The cryptocurrency market runs uninterrupted 24 hours a day, 7 days a week, with no breaks for any reason. To simplify analysis, we use an outer join when we start adding cryptocurrencies to the dataframe, and pull the last valid stock index value to the missing dates using ffill."
   ]
  },
  {
   "cell_type": "code",
   "execution_count": 4,
   "id": "6453303d",
   "metadata": {},
   "outputs": [
    {
     "data": {
      "text/html": [
       "<div>\n",
       "<style scoped>\n",
       "    .dataframe tbody tr th:only-of-type {\n",
       "        vertical-align: middle;\n",
       "    }\n",
       "\n",
       "    .dataframe tbody tr th {\n",
       "        vertical-align: top;\n",
       "    }\n",
       "\n",
       "    .dataframe thead th {\n",
       "        text-align: right;\n",
       "    }\n",
       "</style>\n",
       "<table border=\"1\" class=\"dataframe\">\n",
       "  <thead>\n",
       "    <tr style=\"text-align: right;\">\n",
       "      <th></th>\n",
       "      <th>Date</th>\n",
       "      <th>s_and_p_price</th>\n",
       "      <th>dji_price</th>\n",
       "      <th>BTC_price</th>\n",
       "      <th>SOL_price</th>\n",
       "      <th>BNB_price</th>\n",
       "      <th>XRP_price</th>\n",
       "      <th>ETH_price</th>\n",
       "      <th>DOGE_price</th>\n",
       "    </tr>\n",
       "  </thead>\n",
       "  <tbody>\n",
       "    <tr>\n",
       "      <th>0</th>\n",
       "      <td>2025-01-21</td>\n",
       "      <td>6049.24</td>\n",
       "      <td>44025.81</td>\n",
       "      <td>106157.2</td>\n",
       "      <td>250.560</td>\n",
       "      <td>692.21</td>\n",
       "      <td>3.1735</td>\n",
       "      <td>3328.30</td>\n",
       "      <td>0.372172</td>\n",
       "    </tr>\n",
       "    <tr>\n",
       "      <th>1</th>\n",
       "      <td>2025-01-22</td>\n",
       "      <td>6086.37</td>\n",
       "      <td>44156.73</td>\n",
       "      <td>103684.8</td>\n",
       "      <td>257.517</td>\n",
       "      <td>695.20</td>\n",
       "      <td>3.1780</td>\n",
       "      <td>3242.60</td>\n",
       "      <td>0.362533</td>\n",
       "    </tr>\n",
       "    <tr>\n",
       "      <th>2</th>\n",
       "      <td>2025-01-23</td>\n",
       "      <td>6118.71</td>\n",
       "      <td>44565.07</td>\n",
       "      <td>103912.1</td>\n",
       "      <td>253.154</td>\n",
       "      <td>690.18</td>\n",
       "      <td>3.1191</td>\n",
       "      <td>3338.37</td>\n",
       "      <td>0.352027</td>\n",
       "    </tr>\n",
       "    <tr>\n",
       "      <th>3</th>\n",
       "      <td>2025-01-24</td>\n",
       "      <td>6101.24</td>\n",
       "      <td>44424.25</td>\n",
       "      <td>104862.3</td>\n",
       "      <td>253.339</td>\n",
       "      <td>680.59</td>\n",
       "      <td>3.1013</td>\n",
       "      <td>3311.05</td>\n",
       "      <td>0.350760</td>\n",
       "    </tr>\n",
       "    <tr>\n",
       "      <th>4</th>\n",
       "      <td>2025-01-25</td>\n",
       "      <td>6101.24</td>\n",
       "      <td>44424.25</td>\n",
       "      <td>104742.9</td>\n",
       "      <td>256.091</td>\n",
       "      <td>686.33</td>\n",
       "      <td>3.1078</td>\n",
       "      <td>3318.14</td>\n",
       "      <td>0.353498</td>\n",
       "    </tr>\n",
       "    <tr>\n",
       "      <th>5</th>\n",
       "      <td>2025-01-26</td>\n",
       "      <td>6101.24</td>\n",
       "      <td>44424.25</td>\n",
       "      <td>102637.8</td>\n",
       "      <td>240.654</td>\n",
       "      <td>667.56</td>\n",
       "      <td>3.1187</td>\n",
       "      <td>3234.18</td>\n",
       "      <td>0.335993</td>\n",
       "    </tr>\n",
       "    <tr>\n",
       "      <th>6</th>\n",
       "      <td>2025-01-27</td>\n",
       "      <td>6012.28</td>\n",
       "      <td>44713.58</td>\n",
       "      <td>102091.7</td>\n",
       "      <td>235.068</td>\n",
       "      <td>679.53</td>\n",
       "      <td>3.0541</td>\n",
       "      <td>3179.47</td>\n",
       "      <td>0.333943</td>\n",
       "    </tr>\n",
       "    <tr>\n",
       "      <th>7</th>\n",
       "      <td>2025-01-28</td>\n",
       "      <td>6067.70</td>\n",
       "      <td>44850.35</td>\n",
       "      <td>101349.3</td>\n",
       "      <td>227.191</td>\n",
       "      <td>661.41</td>\n",
       "      <td>3.0591</td>\n",
       "      <td>3077.83</td>\n",
       "      <td>0.318709</td>\n",
       "    </tr>\n",
       "    <tr>\n",
       "      <th>8</th>\n",
       "      <td>2025-01-29</td>\n",
       "      <td>6039.31</td>\n",
       "      <td>44713.52</td>\n",
       "      <td>103722.0</td>\n",
       "      <td>227.948</td>\n",
       "      <td>667.78</td>\n",
       "      <td>3.0679</td>\n",
       "      <td>3113.26</td>\n",
       "      <td>0.323964</td>\n",
       "    </tr>\n",
       "    <tr>\n",
       "      <th>9</th>\n",
       "      <td>2025-01-30</td>\n",
       "      <td>6071.17</td>\n",
       "      <td>44882.13</td>\n",
       "      <td>104726.9</td>\n",
       "      <td>238.667</td>\n",
       "      <td>677.43</td>\n",
       "      <td>3.1274</td>\n",
       "      <td>3247.22</td>\n",
       "      <td>0.331504</td>\n",
       "    </tr>\n",
       "  </tbody>\n",
       "</table>\n",
       "</div>"
      ],
      "text/plain": [
       "        Date  s_and_p_price  dji_price  BTC_price  SOL_price  BNB_price  \\\n",
       "0 2025-01-21        6049.24   44025.81   106157.2    250.560     692.21   \n",
       "1 2025-01-22        6086.37   44156.73   103684.8    257.517     695.20   \n",
       "2 2025-01-23        6118.71   44565.07   103912.1    253.154     690.18   \n",
       "3 2025-01-24        6101.24   44424.25   104862.3    253.339     680.59   \n",
       "4 2025-01-25        6101.24   44424.25   104742.9    256.091     686.33   \n",
       "5 2025-01-26        6101.24   44424.25   102637.8    240.654     667.56   \n",
       "6 2025-01-27        6012.28   44713.58   102091.7    235.068     679.53   \n",
       "7 2025-01-28        6067.70   44850.35   101349.3    227.191     661.41   \n",
       "8 2025-01-29        6039.31   44713.52   103722.0    227.948     667.78   \n",
       "9 2025-01-30        6071.17   44882.13   104726.9    238.667     677.43   \n",
       "\n",
       "   XRP_price  ETH_price  DOGE_price  \n",
       "0     3.1735    3328.30    0.372172  \n",
       "1     3.1780    3242.60    0.362533  \n",
       "2     3.1191    3338.37    0.352027  \n",
       "3     3.1013    3311.05    0.350760  \n",
       "4     3.1078    3318.14    0.353498  \n",
       "5     3.1187    3234.18    0.335993  \n",
       "6     3.0541    3179.47    0.333943  \n",
       "7     3.0591    3077.83    0.318709  \n",
       "8     3.0679    3113.26    0.323964  \n",
       "9     3.1274    3247.22    0.331504  "
      ]
     },
     "execution_count": 4,
     "metadata": {},
     "output_type": "execute_result"
    }
   ],
   "source": [
    "all_data = pd.merge_ordered(s_and_p, dji, how=\"inner\")\n",
    "all_data = pd.merge_ordered(all_data, btc, how=\"outer\", fill_method=\"ffill\")\n",
    "all_data = pd.merge_ordered(all_data, sol, how=\"inner\")\n",
    "all_data = pd.merge_ordered(all_data, bnb, how=\"inner\")\n",
    "all_data = pd.merge_ordered(all_data, xrp, how=\"inner\")\n",
    "all_data = pd.merge_ordered(all_data, eth, how=\"inner\")\n",
    "all_data = pd.merge_ordered(all_data, doge, how=\"inner\")\n",
    "all_data[\"Date\"] = pd.to_datetime(all_data[\"Date\"], format =\"%m/%d/%Y\")\n",
    "all_data.head(10)"
   ]
  },
  {
   "cell_type": "markdown",
   "id": "0804c665",
   "metadata": {},
   "source": [
    "It is helpful to see a simple plot of some of the data."
   ]
  },
  {
   "cell_type": "code",
   "execution_count": 5,
   "id": "65059f8a",
   "metadata": {},
   "outputs": [
    {
     "data": {
      "image/png": "[encoded data removed]",
      "text/plain": [
       "<Figure size 800x600 with 1 Axes>"
      ]
     },
     "metadata": {},
     "output_type": "display_data"
    }
   ],
   "source": [
    "fig = plt.figure(figsize = (8, 6))\n",
    "sns.lineplot(data = all_data, x = 'Date', y ='s_and_p_price')\n",
    "sns.lineplot(data = all_data, x = 'Date', y ='dji_price')\n",
    "sns.lineplot(data = all_data, x = 'Date', y ='BTC_price')\n",
    "plt.title('Coin/index price by date', weight='bold', fontsize = 15)\n",
    "plt.xlabel('Date', weight='bold', fontsize = 12)\n",
    "plt.ylabel('Price (USD)', weight='bold', fontsize = 12)\n",
    "plt.show()"
   ]
  },
  {
   "cell_type": "markdown",
   "id": "a31d032a",
   "metadata": {},
   "source": [
    "We see that the prices are on dramatically different scales. For what we are about to do, this is a problem.\n",
    "\n",
    "## Regression analysis\n",
    "\n",
    "We want to see if Bitcoin prices are related to prices of other assets. We will start by doing a linear regression model of BTC prices as a function of other commodity prices. If we first standardize the data, the absolute value of the model coefficients becomes a measure of how strongly correlated a given asset price is to Bitcoin price, with 1 being high and 0 being low. We do that analysis here.\n",
    "\n",
    "To include time in the analysis, we sequentially index the dates by number of days since January 21. This date number can then be standardized."
   ]
  },
  {
   "cell_type": "code",
   "execution_count": 6,
   "id": "7308a0f9",
   "metadata": {},
   "outputs": [
    {
     "name": "stdout",
     "output_type": "stream",
     "text": [
      "   s_and_p_price  dji_price  SOL_price  BNB_price  XRP_price  ETH_price  \\\n",
      "0       0.925409   0.768500   2.172091   1.946401   2.224559   1.923292   \n",
      "1       1.042450   0.834056   2.338461   2.023777   2.237809   1.766159   \n",
      "2       1.144392   1.038525   2.234124   1.893867   2.064374   1.941756   \n",
      "3       1.089323   0.968012   2.238548   1.645693   2.011961   1.891664   \n",
      "4       1.089323   0.968012   2.304360   1.794235   2.031101   1.904664   \n",
      "\n",
      "   DOGE_price    day_no  \n",
      "0    2.529279 -1.713121  \n",
      "1    2.372444 -1.675051  \n",
      "2    2.201502 -1.636982  \n",
      "3    2.180887 -1.598913  \n",
      "4    2.225437 -1.560843  \n",
      "mean_squared_error:  0.03849161938343902\n",
      "mean_absolute_error:  0.15129871070063333\n",
      "Correlation coefficient between predicted and test data:  [[1.         0.98275635]\n",
      " [0.98275635 1.        ]]\n"
     ]
    }
   ],
   "source": [
    "# Create a date number column for easy standardization, and divide up the data into independent and dependent\n",
    "# variable dataframes.\n",
    "X = all_data.drop([\"BTC_price\", \"Date\"], axis=1)\n",
    "X[\"day_no\"] = X.index - X.index[0]\n",
    "y = all_data[\"BTC_price\"]\n",
    "\n",
    "# Scale the data for use with a regression model.\n",
    "scaler = StandardScaler()\n",
    "all_data_p = all_data.drop(\"Date\", axis=1)\n",
    "all_data_p[\"day_no\"] = all_data_p.index - all_data_p.index[0]\n",
    "all_data_p = pd.DataFrame(scaler.fit_transform(all_data_p), columns=all_data_p.columns)\n",
    "\n",
    "Xp = all_data_p.drop(\"BTC_price\", axis=1)\n",
    "print(Xp.head())\n",
    "yp = all_data_p[\"BTC_price\"]\n",
    "\n",
    "# Create training and test sets.\n",
    "X_train, X_test, y_train, y_test = train_test_split(\n",
    "    Xp, yp, test_size=0.3, random_state=101)\n",
    "\n",
    "# Create a regression model.\n",
    "model = LinearRegression()\n",
    "\n",
    "# Fit the model.\n",
    "model.fit(X_train, y_train)\n",
    "\n",
    "# Make predictions\n",
    "predictions = model.predict(X_test)\n",
    "\n",
    "# Model evaluation\n",
    "print('mean_squared_error: ', mean_squared_error(y_test, predictions))\n",
    "print('mean_absolute_error: ', mean_absolute_error(y_test, predictions))\n",
    "print('Correlation coefficient between predicted and test data: ', np.corrcoef(y_test, predictions))"
   ]
  },
  {
   "cell_type": "markdown",
   "id": "d319debf",
   "metadata": {},
   "source": [
    "Note the final Pearson correlation coefficients between the test and predicted data is quite close to 1 (0.98275635). The model is fitting the data quite well.\n",
    "\n",
    "We can now examine the model coefficients."
   ]
  },
  {
   "cell_type": "code",
   "execution_count": 7,
   "id": "5cd23ac1",
   "metadata": {},
   "outputs": [
    {
     "data": {
      "text/plain": [
       "array([ 0.49303458, -0.36750086,  0.74616722, -0.03414955,  0.02519897,\n",
       "        0.72229024, -0.09780742,  0.49735523])"
      ]
     },
     "execution_count": 7,
     "metadata": {},
     "output_type": "execute_result"
    }
   ],
   "source": [
    "model.coef_"
   ]
  },
  {
   "cell_type": "code",
   "execution_count": 8,
   "id": "c20567ec",
   "metadata": {},
   "outputs": [
    {
     "data": {
      "image/png": "[encoded data removed]",
      "text/plain": [
       "<Figure size 800x600 with 1 Axes>"
      ]
     },
     "metadata": {},
     "output_type": "display_data"
    }
   ],
   "source": [
    "modresults = pd.DataFrame(model.coef_)\n",
    "modresults = modresults.T\n",
    "modresults.reset_index(drop=True)\n",
    "modresults.columns = Xp.columns\n",
    "fig = plt.figure(figsize = (8, 6))\n",
    "sns.barplot(data = modresults)\n",
    "plt.title('Model contribution coefficients', weight='bold', fontsize = 15)\n",
    "plt.xlabel('Parameters', weight='bold', fontsize = 12)\n",
    "plt.ylabel('Model coefficient values', weight='bold', fontsize = 12)\n",
    "plt.show()"
   ]
  },
  {
   "cell_type": "markdown",
   "id": "73c17d0f",
   "metadata": {},
   "source": [
    "From this we infer that the greatest contributors to the model are, in order, SOL_price, ETH_price, day_no, s_and_p_price, and dji_price, with BNB_price, XRP_price, and DOGE_price having little to no contribution in this time period. Note that dji_price is negatively correlated. This suggests money flowing out of/into the Dow Jones and into/out of BTC.\n",
    "\n",
    "## Pure correlation analysis\n",
    "\n",
    "It is interesting to do a simple correlation analysis of the unscaled data to compare with the regression analysis above. To do so, we simply find Pearson correlation coefficients for the prices of interest and Bitcoin prices. Numbers closer to 1 are better."
   ]
  },
  {
   "cell_type": "code",
   "execution_count": 9,
   "id": "af183570",
   "metadata": {},
   "outputs": [
    {
     "data": {
      "text/plain": [
       "array([[1.        , 0.80829063],\n",
       "       [0.80829063, 1.        ]])"
      ]
     },
     "execution_count": 9,
     "metadata": {},
     "output_type": "execute_result"
    }
   ],
   "source": [
    "np.corrcoef(X[\"s_and_p_price\"], y)"
   ]
  },
  {
   "cell_type": "code",
   "execution_count": 10,
   "id": "5977fcc4",
   "metadata": {},
   "outputs": [
    {
     "data": {
      "text/plain": [
       "array([[1.        , 0.79472645],\n",
       "       [0.79472645, 1.        ]])"
      ]
     },
     "execution_count": 10,
     "metadata": {},
     "output_type": "execute_result"
    }
   ],
   "source": [
    "np.corrcoef(X[\"dji_price\"], y)"
   ]
  },
  {
   "cell_type": "code",
   "execution_count": 11,
   "id": "0f521d79",
   "metadata": {},
   "outputs": [
    {
     "data": {
      "text/plain": [
       "array([[ 1.        , -0.87242169],\n",
       "       [-0.87242169,  1.        ]])"
      ]
     },
     "execution_count": 11,
     "metadata": {},
     "output_type": "execute_result"
    }
   ],
   "source": [
    "np.corrcoef(X[\"day_no\"], y)"
   ]
  },
  {
   "cell_type": "code",
   "execution_count": 12,
   "id": "8db5c850",
   "metadata": {},
   "outputs": [
    {
     "data": {
      "text/plain": [
       "array([[1.        , 0.96911472],\n",
       "       [0.96911472, 1.        ]])"
      ]
     },
     "execution_count": 12,
     "metadata": {},
     "output_type": "execute_result"
    }
   ],
   "source": [
    "np.corrcoef(X[\"SOL_price\"], y)"
   ]
  },
  {
   "cell_type": "code",
   "execution_count": 13,
   "id": "a23558f9",
   "metadata": {},
   "outputs": [
    {
     "data": {
      "text/plain": [
       "array([[1.        , 0.77157495],\n",
       "       [0.77157495, 1.        ]])"
      ]
     },
     "execution_count": 13,
     "metadata": {},
     "output_type": "execute_result"
    }
   ],
   "source": [
    "np.corrcoef(X[\"BNB_price\"], y)"
   ]
  },
  {
   "cell_type": "code",
   "execution_count": 14,
   "id": "e6ef3244",
   "metadata": {},
   "outputs": [
    {
     "data": {
      "text/plain": [
       "array([[1.        , 0.89964186],\n",
       "       [0.89964186, 1.        ]])"
      ]
     },
     "execution_count": 14,
     "metadata": {},
     "output_type": "execute_result"
    }
   ],
   "source": [
    "np.corrcoef(X[\"XRP_price\"], y)"
   ]
  },
  {
   "cell_type": "code",
   "execution_count": 15,
   "id": "c664981c",
   "metadata": {},
   "outputs": [
    {
     "data": {
      "text/plain": [
       "array([[1.        , 0.95068969],\n",
       "       [0.95068969, 1.        ]])"
      ]
     },
     "execution_count": 15,
     "metadata": {},
     "output_type": "execute_result"
    }
   ],
   "source": [
    "np.corrcoef(X[\"ETH_price\"], y)"
   ]
  },
  {
   "cell_type": "code",
   "execution_count": 16,
   "id": "56c85e71",
   "metadata": {},
   "outputs": [
    {
     "data": {
      "text/plain": [
       "array([[1.        , 0.96425751],\n",
       "       [0.96425751, 1.        ]])"
      ]
     },
     "execution_count": 16,
     "metadata": {},
     "output_type": "execute_result"
    }
   ],
   "source": [
    "np.corrcoef(X[\"DOGE_price\"], y)"
   ]
  },
  {
   "cell_type": "code",
   "execution_count": 17,
   "id": "ed0589df",
   "metadata": {},
   "outputs": [
    {
     "data": {
      "text/plain": [
       "array([[1., 1.],\n",
       "       [1., 1.]])"
      ]
     },
     "execution_count": 17,
     "metadata": {},
     "output_type": "execute_result"
    }
   ],
   "source": [
    "np.corrcoef(y, y)"
   ]
  },
  {
   "cell_type": "markdown",
   "id": "dd9fb3d0",
   "metadata": {},
   "source": [
    "What we see here is that the BTC price tendency strongly correlates with other cryptocurrency prices, like ETH and SOL. Beyond that, this analysis is not particularly revealing, as the Pearson correlations are sufficiently low as to be questionable.\n",
    "\n",
    "## Conclusions\n",
    "\n",
    "The regression analysis on this data yielded a seemingly high-quality model which provided some insight into market movements over the time period of interest. Pure Pearson correlations of the unscaled data were much less revealing."
   ]
  },
  {
   "cell_type": "code",
   "execution_count": null,
   "id": "32c44e57",
   "metadata": {},
   "outputs": [],
   "source": []
  }
 ],
 "metadata": {
  "kernelspec": {
   "display_name": "Python 3 (ipykernel)",
   "language": "python",
   "name": "python3"
  },
  "language_info": {
   "codemirror_mode": {
    "name": "ipython",
    "version": 3
   },
   "file_extension": ".py",
   "mimetype": "text/x-python",
   "name": "python",
   "nbconvert_exporter": "python",
   "pygments_lexer": "ipython3",
   "version": "3.11.2"
  }
 },
 "nbformat": 4,
 "nbformat_minor": 5
}
